{
 "cells": [
  {
   "cell_type": "code",
   "execution_count": 1,
   "id": "7ea1e51f",
   "metadata": {},
   "outputs": [],
   "source": [
    "import joblib\n",
    "import pandas as pd\n",
    "from sklearn.ensemble import RandomForestClassifier\n",
    "from sklearn.model_selection import GridSearchCV\n",
    "import warnings\n",
    "warnings.filterwarnings('ignore', category=FutureWarning)\n",
    "warnings.filterwarnings('ignore', category=DeprecationWarning)\n",
    "\n",
    "tr_features = pd.read_csv('train_features.csv')\n",
    "tr_labels = pd.read_csv('train_labels.csv', header=None)"
   ]
  },
  {
   "cell_type": "code",
   "execution_count": 2,
   "id": "9745c942",
   "metadata": {},
   "outputs": [],
   "source": [
    "def print_results(results):\n",
    "    print('BEST PARAMS: {}\\n'.format(results.best_params_))\n",
    "\n",
    "    means = results.cv_results_['mean_test_score']\n",
    "    stds = results.cv_results_['std_test_score']\n",
    "    for mean, std, params in zip(means, stds, results.cv_results_['params']):\n",
    "        print('{} (+/-{}) for {}'.format(round(mean, 3), round(std * 2, 3), params))"
   ]
  },
  {
   "cell_type": "code",
   "execution_count": 3,
   "id": "755d090d",
   "metadata": {},
   "outputs": [
    {
     "name": "stdout",
     "output_type": "stream",
     "text": [
      "BEST PARAMS: {'max_depth': 4, 'n_estimators': 50}\n",
      "\n",
      "0.772 (+/-0.122) for {'max_depth': 2, 'n_estimators': 5}\n",
      "0.785 (+/-0.14) for {'max_depth': 2, 'n_estimators': 50}\n",
      "0.805 (+/-0.094) for {'max_depth': 2, 'n_estimators': 250}\n",
      "0.817 (+/-0.119) for {'max_depth': 4, 'n_estimators': 5}\n",
      "0.826 (+/-0.102) for {'max_depth': 4, 'n_estimators': 50}\n",
      "0.826 (+/-0.119) for {'max_depth': 4, 'n_estimators': 250}\n",
      "0.798 (+/-0.055) for {'max_depth': 8, 'n_estimators': 5}\n",
      "0.818 (+/-0.076) for {'max_depth': 8, 'n_estimators': 50}\n",
      "0.822 (+/-0.071) for {'max_depth': 8, 'n_estimators': 250}\n",
      "0.817 (+/-0.027) for {'max_depth': 16, 'n_estimators': 5}\n",
      "0.811 (+/-0.043) for {'max_depth': 16, 'n_estimators': 50}\n",
      "0.815 (+/-0.034) for {'max_depth': 16, 'n_estimators': 250}\n",
      "0.788 (+/-0.053) for {'max_depth': 32, 'n_estimators': 5}\n",
      "0.813 (+/-0.033) for {'max_depth': 32, 'n_estimators': 50}\n",
      "0.805 (+/-0.029) for {'max_depth': 32, 'n_estimators': 250}\n",
      "0.803 (+/-0.05) for {'max_depth': None, 'n_estimators': 5}\n",
      "0.807 (+/-0.032) for {'max_depth': None, 'n_estimators': 50}\n",
      "0.809 (+/-0.029) for {'max_depth': None, 'n_estimators': 250}\n"
     ]
    }
   ],
   "source": [
    "rf = RandomForestClassifier()\n",
    "parameters = {\n",
    "    'n_estimators': [5, 50, 250],\n",
    "    'max_depth': [2, 4, 8, 16, 32, None]\n",
    "}\n",
    "\n",
    "cv = GridSearchCV(rf, parameters, cv=5)\n",
    "cv.fit(tr_features, tr_labels.values.ravel())\n",
    "\n",
    "print_results(cv)"
   ]
  },
  {
   "cell_type": "code",
   "execution_count": 6,
   "id": "1b3771a9",
   "metadata": {},
   "outputs": [
    {
     "data": {
      "text/plain": [
       "RandomForestClassifier(max_depth=4, n_estimators=50)"
      ]
     },
     "execution_count": 6,
     "metadata": {},
     "output_type": "execute_result"
    }
   ],
   "source": [
    "cv.best_estimator_"
   ]
  },
  {
   "cell_type": "code",
   "execution_count": 7,
   "id": "3903a3ee",
   "metadata": {},
   "outputs": [
    {
     "data": {
      "text/plain": [
       "['RF_model.pkl']"
      ]
     },
     "execution_count": 7,
     "metadata": {},
     "output_type": "execute_result"
    }
   ],
   "source": [
    "joblib.dump(cv.best_estimator_, 'RF_model.pkl')"
   ]
  },
  {
   "cell_type": "code",
   "execution_count": null,
   "id": "ecd1bb41",
   "metadata": {},
   "outputs": [],
   "source": []
  }
 ],
 "metadata": {
  "kernelspec": {
   "display_name": "Python 3",
   "language": "python",
   "name": "python3"
  },
  "language_info": {
   "codemirror_mode": {
    "name": "ipython",
    "version": 3
   },
   "file_extension": ".py",
   "mimetype": "text/x-python",
   "name": "python",
   "nbconvert_exporter": "python",
   "pygments_lexer": "ipython3",
   "version": "3.8.8"
  }
 },
 "nbformat": 4,
 "nbformat_minor": 5
}
